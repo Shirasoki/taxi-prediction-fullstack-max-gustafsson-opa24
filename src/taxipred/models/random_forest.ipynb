{
 "cells": [
  {
   "cell_type": "markdown",
   "id": "5b966124",
   "metadata": {},
   "source": [
    "## Im going with random forest to train my model as im a bit more comfortable with this one and from my understanding its more accurate\n"
   ]
  },
  {
   "cell_type": "code",
   "execution_count": 4,
   "id": "854ae1bc",
   "metadata": {},
   "outputs": [
    {
     "data": {
      "text/html": [
       "<div>\n",
       "<style scoped>\n",
       "    .dataframe tbody tr th:only-of-type {\n",
       "        vertical-align: middle;\n",
       "    }\n",
       "\n",
       "    .dataframe tbody tr th {\n",
       "        vertical-align: top;\n",
       "    }\n",
       "\n",
       "    .dataframe thead th {\n",
       "        text-align: right;\n",
       "    }\n",
       "</style>\n",
       "<table border=\"1\" class=\"dataframe\">\n",
       "  <thead>\n",
       "    <tr style=\"text-align: right;\">\n",
       "      <th></th>\n",
       "      <th>Time_of_Day</th>\n",
       "      <th>Base_Fare</th>\n",
       "      <th>Per_Km_Rate</th>\n",
       "      <th>Per_Minute_Rate</th>\n",
       "      <th>Trip_Duration_Minutes</th>\n",
       "      <th>Trip_Price</th>\n",
       "    </tr>\n",
       "    <tr>\n",
       "      <th>Trip_Distance_km</th>\n",
       "      <th></th>\n",
       "      <th></th>\n",
       "      <th></th>\n",
       "      <th></th>\n",
       "      <th></th>\n",
       "      <th></th>\n",
       "    </tr>\n",
       "  </thead>\n",
       "  <tbody>\n",
       "    <tr>\n",
       "      <th>19.35</th>\n",
       "      <td>Morning</td>\n",
       "      <td>3.56</td>\n",
       "      <td>0.80</td>\n",
       "      <td>0.32</td>\n",
       "      <td>53.82</td>\n",
       "      <td>36.2624</td>\n",
       "    </tr>\n",
       "    <tr>\n",
       "      <th>36.87</th>\n",
       "      <td>Evening</td>\n",
       "      <td>2.70</td>\n",
       "      <td>1.21</td>\n",
       "      <td>0.15</td>\n",
       "      <td>37.27</td>\n",
       "      <td>52.9032</td>\n",
       "    </tr>\n",
       "    <tr>\n",
       "      <th>30.33</th>\n",
       "      <td>Evening</td>\n",
       "      <td>3.48</td>\n",
       "      <td>0.51</td>\n",
       "      <td>0.15</td>\n",
       "      <td>116.81</td>\n",
       "      <td>36.4698</td>\n",
       "    </tr>\n",
       "    <tr>\n",
       "      <th>8.64</th>\n",
       "      <td>Evening</td>\n",
       "      <td>2.93</td>\n",
       "      <td>0.63</td>\n",
       "      <td>0.32</td>\n",
       "      <td>22.64</td>\n",
       "      <td>15.6180</td>\n",
       "    </tr>\n",
       "    <tr>\n",
       "      <th>8.64</th>\n",
       "      <td>Afternoon</td>\n",
       "      <td>2.55</td>\n",
       "      <td>1.71</td>\n",
       "      <td>0.48</td>\n",
       "      <td>89.33</td>\n",
       "      <td>60.2028</td>\n",
       "    </tr>\n",
       "  </tbody>\n",
       "</table>\n",
       "</div>"
      ],
      "text/plain": [
       "                 Time_of_Day  Base_Fare  Per_Km_Rate  Per_Minute_Rate  \\\n",
       "Trip_Distance_km                                                        \n",
       "19.35                Morning       3.56         0.80             0.32   \n",
       "36.87                Evening       2.70         1.21             0.15   \n",
       "30.33                Evening       3.48         0.51             0.15   \n",
       "8.64                 Evening       2.93         0.63             0.32   \n",
       "8.64               Afternoon       2.55         1.71             0.48   \n",
       "\n",
       "                  Trip_Duration_Minutes  Trip_Price  \n",
       "Trip_Distance_km                                     \n",
       "19.35                             53.82     36.2624  \n",
       "36.87                             37.27     52.9032  \n",
       "30.33                            116.81     36.4698  \n",
       "8.64                              22.64     15.6180  \n",
       "8.64                              89.33     60.2028  "
      ]
     },
     "execution_count": 4,
     "metadata": {},
     "output_type": "execute_result"
    }
   ],
   "source": [
    "import pandas as pd\n",
    "import joblib\n",
    "import pathlib\n",
    "from taxipred.utils.constants import CLEANED_CSV_PATH\n",
    "from sklearn.model_selection import train_test_split\n",
    "from sklearn.ensemble import RandomForestRegressor\n",
    "from sklearn.metrics import mean_absolute_error, mean_squared_error, r2_score\n",
    "import numpy as np\n",
    "import matplotlib.pyplot as plt\n",
    "import seaborn as sns\n",
    "\n",
    "df = pd.read_csv(CLEANED_CSV_PATH, index_col=0)\n",
    "df.head()\n"
   ]
  },
  {
   "cell_type": "code",
   "execution_count": 3,
   "id": "42746743",
   "metadata": {},
   "outputs": [
    {
     "data": {
      "text/plain": [
       "Trip_Distance_km         0\n",
       "Time_of_Day              0\n",
       "Base_Fare                0\n",
       "Per_Km_Rate              0\n",
       "Per_Minute_Rate          0\n",
       "Trip_Duration_Minutes    0\n",
       "Trip_Price               0\n",
       "dtype: int64"
      ]
     },
     "execution_count": 3,
     "metadata": {},
     "output_type": "execute_result"
    }
   ],
   "source": [
    "df.isnull().sum()"
   ]
  },
  {
   "cell_type": "code",
   "execution_count": 17,
   "id": "d4e817d5",
   "metadata": {},
   "outputs": [
    {
     "data": {
      "text/html": [
       "<div>\n",
       "<style scoped>\n",
       "    .dataframe tbody tr th:only-of-type {\n",
       "        vertical-align: middle;\n",
       "    }\n",
       "\n",
       "    .dataframe tbody tr th {\n",
       "        vertical-align: top;\n",
       "    }\n",
       "\n",
       "    .dataframe thead th {\n",
       "        text-align: right;\n",
       "    }\n",
       "</style>\n",
       "<table border=\"1\" class=\"dataframe\">\n",
       "  <thead>\n",
       "    <tr style=\"text-align: right;\">\n",
       "      <th></th>\n",
       "      <th>Base_Fare</th>\n",
       "      <th>Per_Km_Rate</th>\n",
       "      <th>Per_Minute_Rate</th>\n",
       "      <th>Trip_Duration_Minutes</th>\n",
       "    </tr>\n",
       "    <tr>\n",
       "      <th>Trip_Distance_km</th>\n",
       "      <th></th>\n",
       "      <th></th>\n",
       "      <th></th>\n",
       "      <th></th>\n",
       "    </tr>\n",
       "  </thead>\n",
       "  <tbody>\n",
       "    <tr>\n",
       "      <th>29.010000</th>\n",
       "      <td>4.36</td>\n",
       "      <td>1.39</td>\n",
       "      <td>0.20</td>\n",
       "      <td>88.77</td>\n",
       "    </tr>\n",
       "    <tr>\n",
       "      <th>48.750000</th>\n",
       "      <td>3.46</td>\n",
       "      <td>1.02</td>\n",
       "      <td>0.46</td>\n",
       "      <td>17.41</td>\n",
       "    </tr>\n",
       "    <tr>\n",
       "      <th>22.970000</th>\n",
       "      <td>2.25</td>\n",
       "      <td>0.76</td>\n",
       "      <td>0.20</td>\n",
       "      <td>60.53</td>\n",
       "    </tr>\n",
       "    <tr>\n",
       "      <th>104.371791</th>\n",
       "      <td>3.22</td>\n",
       "      <td>1.12</td>\n",
       "      <td>0.45</td>\n",
       "      <td>89.21</td>\n",
       "    </tr>\n",
       "    <tr>\n",
       "      <th>21.950000</th>\n",
       "      <td>4.05</td>\n",
       "      <td>0.88</td>\n",
       "      <td>0.10</td>\n",
       "      <td>44.99</td>\n",
       "    </tr>\n",
       "  </tbody>\n",
       "</table>\n",
       "</div>"
      ],
      "text/plain": [
       "                  Base_Fare  Per_Km_Rate  Per_Minute_Rate  \\\n",
       "Trip_Distance_km                                            \n",
       "29.010000              4.36         1.39             0.20   \n",
       "48.750000              3.46         1.02             0.46   \n",
       "22.970000              2.25         0.76             0.20   \n",
       "104.371791             3.22         1.12             0.45   \n",
       "21.950000              4.05         0.88             0.10   \n",
       "\n",
       "                  Trip_Duration_Minutes  \n",
       "Trip_Distance_km                         \n",
       "29.010000                         88.77  \n",
       "48.750000                         17.41  \n",
       "22.970000                         60.53  \n",
       "104.371791                        89.21  \n",
       "21.950000                         44.99  "
      ]
     },
     "execution_count": 17,
     "metadata": {},
     "output_type": "execute_result"
    }
   ],
   "source": [
    "from sklearn.model_selection import train_test_split\n",
    "x, y = df.drop(columns=[\"Trip_Price\"]), df['Trip_Price']\n",
    "x_train, x_test, y_train, y_test = train_test_split(x, y, test_size=0.2, random_state=42)\n",
    "x_train.shape, x_test.shape, y_train.shape, y_test.shape\n",
    "x_train.head()\n"
   ]
  },
  {
   "cell_type": "code",
   "execution_count": 9,
   "id": "4e5c22b3",
   "metadata": {},
   "outputs": [],
   "source": [
    "from sklearn.ensemble import RandomForestRegressor\n",
    "model = RandomForestRegressor()\n",
    "model.fit(x_train, y_train)\n",
    "y_pred = model.predict(x_test)\n",
    "\n"
   ]
  },
  {
   "cell_type": "code",
   "execution_count": 19,
   "id": "a244a362",
   "metadata": {},
   "outputs": [
    {
     "name": "stdout",
     "output_type": "stream",
     "text": [
      "Mean Absolute Error: 17.190866977374938\n",
      "Mean Squared Error: 659.1577030050594\n",
      "R2 Score: 0.11270214896905406\n"
     ]
    }
   ],
   "source": [
    "# Regression metrics\n",
    "from sklearn.metrics import mean_absolute_error, mean_squared_error, r2_score\n",
    "\n",
    "print(\"Mean Absolute Error:\", mean_absolute_error(y_test, y_pred))\n",
    "print(\"Mean Squared Error:\", mean_squared_error(y_test, y_pred))\n",
    "print(\"R2 Score:\", r2_score(y_test, y_pred))"
   ]
  }
 ],
 "metadata": {
  "kernelspec": {
   "display_name": "taxi-prediction-fullstack-max-gustafsson-opa24 (3.13.7)",
   "language": "python",
   "name": "python3"
  },
  "language_info": {
   "codemirror_mode": {
    "name": "ipython",
    "version": 3
   },
   "file_extension": ".py",
   "mimetype": "text/x-python",
   "name": "python",
   "nbconvert_exporter": "python",
   "pygments_lexer": "ipython3",
   "version": "3.13.7"
  }
 },
 "nbformat": 4,
 "nbformat_minor": 5
}
