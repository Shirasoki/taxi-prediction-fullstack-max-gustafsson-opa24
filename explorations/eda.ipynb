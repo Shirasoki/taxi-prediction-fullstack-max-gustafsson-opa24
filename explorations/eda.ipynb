{
 "cells": [
  {
   "cell_type": "markdown",
   "id": "a934dcc2",
   "metadata": {},
   "source": [
    "## Doing a EDA about texi predictions, starting out with cleaning the data and understanding it"
   ]
  },
  {
   "cell_type": "code",
   "execution_count": 4,
   "id": "9e9a3f39",
   "metadata": {},
   "outputs": [],
   "source": [
    "import pandas as pd\n",
    "import numpy as np\n",
    "\n"
   ]
  },
  {
   "cell_type": "code",
   "execution_count": 5,
   "id": "54bfb6b4",
   "metadata": {},
   "outputs": [],
   "source": [
    "df = pd.read_csv(\"../src/taxipred/data/taxi_trip_pricing.csv\")"
   ]
  },
  {
   "cell_type": "code",
   "execution_count": 6,
   "id": "8d677279",
   "metadata": {},
   "outputs": [
    {
     "data": {
      "text/plain": [
       "(1000, 11)"
      ]
     },
     "execution_count": 6,
     "metadata": {},
     "output_type": "execute_result"
    }
   ],
   "source": [
    "df.shape"
   ]
  },
  {
   "cell_type": "code",
   "execution_count": 7,
   "id": "fc533689",
   "metadata": {},
   "outputs": [
    {
     "data": {
      "text/html": [
       "<div>\n",
       "<style scoped>\n",
       "    .dataframe tbody tr th:only-of-type {\n",
       "        vertical-align: middle;\n",
       "    }\n",
       "\n",
       "    .dataframe tbody tr th {\n",
       "        vertical-align: top;\n",
       "    }\n",
       "\n",
       "    .dataframe thead th {\n",
       "        text-align: right;\n",
       "    }\n",
       "</style>\n",
       "<table border=\"1\" class=\"dataframe\">\n",
       "  <thead>\n",
       "    <tr style=\"text-align: right;\">\n",
       "      <th></th>\n",
       "      <th>Trip_Distance_km</th>\n",
       "      <th>Time_of_Day</th>\n",
       "      <th>Day_of_Week</th>\n",
       "      <th>Passenger_Count</th>\n",
       "      <th>Traffic_Conditions</th>\n",
       "      <th>Weather</th>\n",
       "      <th>Base_Fare</th>\n",
       "      <th>Per_Km_Rate</th>\n",
       "      <th>Per_Minute_Rate</th>\n",
       "      <th>Trip_Duration_Minutes</th>\n",
       "      <th>Trip_Price</th>\n",
       "    </tr>\n",
       "  </thead>\n",
       "  <tbody>\n",
       "    <tr>\n",
       "      <th>0</th>\n",
       "      <td>19.35</td>\n",
       "      <td>Morning</td>\n",
       "      <td>Weekday</td>\n",
       "      <td>3.0</td>\n",
       "      <td>Low</td>\n",
       "      <td>Clear</td>\n",
       "      <td>3.56</td>\n",
       "      <td>0.80</td>\n",
       "      <td>0.32</td>\n",
       "      <td>53.82</td>\n",
       "      <td>36.2624</td>\n",
       "    </tr>\n",
       "    <tr>\n",
       "      <th>1</th>\n",
       "      <td>47.59</td>\n",
       "      <td>Afternoon</td>\n",
       "      <td>Weekday</td>\n",
       "      <td>1.0</td>\n",
       "      <td>High</td>\n",
       "      <td>Clear</td>\n",
       "      <td>NaN</td>\n",
       "      <td>0.62</td>\n",
       "      <td>0.43</td>\n",
       "      <td>40.57</td>\n",
       "      <td>NaN</td>\n",
       "    </tr>\n",
       "    <tr>\n",
       "      <th>2</th>\n",
       "      <td>36.87</td>\n",
       "      <td>Evening</td>\n",
       "      <td>Weekend</td>\n",
       "      <td>1.0</td>\n",
       "      <td>High</td>\n",
       "      <td>Clear</td>\n",
       "      <td>2.70</td>\n",
       "      <td>1.21</td>\n",
       "      <td>0.15</td>\n",
       "      <td>37.27</td>\n",
       "      <td>52.9032</td>\n",
       "    </tr>\n",
       "    <tr>\n",
       "      <th>3</th>\n",
       "      <td>30.33</td>\n",
       "      <td>Evening</td>\n",
       "      <td>Weekday</td>\n",
       "      <td>4.0</td>\n",
       "      <td>Low</td>\n",
       "      <td>NaN</td>\n",
       "      <td>3.48</td>\n",
       "      <td>0.51</td>\n",
       "      <td>0.15</td>\n",
       "      <td>116.81</td>\n",
       "      <td>36.4698</td>\n",
       "    </tr>\n",
       "    <tr>\n",
       "      <th>4</th>\n",
       "      <td>NaN</td>\n",
       "      <td>Evening</td>\n",
       "      <td>Weekday</td>\n",
       "      <td>3.0</td>\n",
       "      <td>High</td>\n",
       "      <td>Clear</td>\n",
       "      <td>2.93</td>\n",
       "      <td>0.63</td>\n",
       "      <td>0.32</td>\n",
       "      <td>22.64</td>\n",
       "      <td>15.6180</td>\n",
       "    </tr>\n",
       "  </tbody>\n",
       "</table>\n",
       "</div>"
      ],
      "text/plain": [
       "   Trip_Distance_km Time_of_Day Day_of_Week  Passenger_Count  \\\n",
       "0             19.35     Morning     Weekday              3.0   \n",
       "1             47.59   Afternoon     Weekday              1.0   \n",
       "2             36.87     Evening     Weekend              1.0   \n",
       "3             30.33     Evening     Weekday              4.0   \n",
       "4               NaN     Evening     Weekday              3.0   \n",
       "\n",
       "  Traffic_Conditions Weather  Base_Fare  Per_Km_Rate  Per_Minute_Rate  \\\n",
       "0                Low   Clear       3.56         0.80             0.32   \n",
       "1               High   Clear        NaN         0.62             0.43   \n",
       "2               High   Clear       2.70         1.21             0.15   \n",
       "3                Low     NaN       3.48         0.51             0.15   \n",
       "4               High   Clear       2.93         0.63             0.32   \n",
       "\n",
       "   Trip_Duration_Minutes  Trip_Price  \n",
       "0                  53.82     36.2624  \n",
       "1                  40.57         NaN  \n",
       "2                  37.27     52.9032  \n",
       "3                 116.81     36.4698  \n",
       "4                  22.64     15.6180  "
      ]
     },
     "execution_count": 7,
     "metadata": {},
     "output_type": "execute_result"
    }
   ],
   "source": [
    "df.head()"
   ]
  },
  {
   "cell_type": "code",
   "execution_count": 8,
   "id": "3288a197",
   "metadata": {},
   "outputs": [
    {
     "name": "stdout",
     "output_type": "stream",
     "text": [
      "<class 'pandas.core.frame.DataFrame'>\n",
      "RangeIndex: 1000 entries, 0 to 999\n",
      "Data columns (total 11 columns):\n",
      " #   Column                 Non-Null Count  Dtype  \n",
      "---  ------                 --------------  -----  \n",
      " 0   Trip_Distance_km       950 non-null    float64\n",
      " 1   Time_of_Day            950 non-null    object \n",
      " 2   Day_of_Week            950 non-null    object \n",
      " 3   Passenger_Count        950 non-null    float64\n",
      " 4   Traffic_Conditions     950 non-null    object \n",
      " 5   Weather                950 non-null    object \n",
      " 6   Base_Fare              950 non-null    float64\n",
      " 7   Per_Km_Rate            950 non-null    float64\n",
      " 8   Per_Minute_Rate        950 non-null    float64\n",
      " 9   Trip_Duration_Minutes  950 non-null    float64\n",
      " 10  Trip_Price             951 non-null    float64\n",
      "dtypes: float64(7), object(4)\n",
      "memory usage: 86.1+ KB\n"
     ]
    }
   ],
   "source": [
    "df.info()"
   ]
  },
  {
   "cell_type": "code",
   "execution_count": 11,
   "id": "55f3c01e",
   "metadata": {},
   "outputs": [
    {
     "data": {
      "text/plain": [
       "Trip_Price\n",
       "36.2624    1\n",
       "52.9032    1\n",
       "36.4698    1\n",
       "15.6180    1\n",
       "60.2028    1\n",
       "          ..\n",
       "34.4049    1\n",
       "62.1295    1\n",
       "33.1236    1\n",
       "61.2090    1\n",
       "45.4437    1\n",
       "Name: count, Length: 951, dtype: int64"
      ]
     },
     "execution_count": 11,
     "metadata": {},
     "output_type": "execute_result"
    }
   ],
   "source": [
    "df[\"Trip_Price\"].value_counts()"
   ]
  },
  {
   "cell_type": "code",
   "execution_count": 13,
   "id": "7229be04",
   "metadata": {},
   "outputs": [
    {
     "data": {
      "text/plain": [
       "np.float64(56.87477332571041)"
      ]
     },
     "execution_count": 13,
     "metadata": {},
     "output_type": "execute_result"
    }
   ],
   "source": [
    "df[\"Trip_Price\"].mean()"
   ]
  },
  {
   "cell_type": "code",
   "execution_count": 14,
   "id": "056aa86b",
   "metadata": {},
   "outputs": [
    {
     "data": {
      "text/plain": [
       "np.float64(1.2333157894736844)"
      ]
     },
     "execution_count": 14,
     "metadata": {},
     "output_type": "execute_result"
    }
   ],
   "source": [
    "df[\"Per_Km_Rate\"].mean()"
   ]
  },
  {
   "cell_type": "code",
   "execution_count": 15,
   "id": "3e7f4786",
   "metadata": {},
   "outputs": [
    {
     "data": {
      "text/plain": [
       "Time_of_Day\n",
       "Afternoon    371\n",
       "Morning      283\n",
       "Evening      203\n",
       "Night         93\n",
       "Name: count, dtype: int64"
      ]
     },
     "execution_count": 15,
     "metadata": {},
     "output_type": "execute_result"
    }
   ],
   "source": [
    "df[\"Time_of_Day\"].value_counts()\n"
   ]
  },
  {
   "cell_type": "code",
   "execution_count": 16,
   "id": "16c7a681",
   "metadata": {},
   "outputs": [
    {
     "data": {
      "text/plain": [
       "(93, 11)"
      ]
     },
     "execution_count": 16,
     "metadata": {},
     "output_type": "execute_result"
    }
   ],
   "source": [
    "df_night = df[df[\"Time_of_Day\"] == \"Night\"]\n",
    "df_night.shape"
   ]
  },
  {
   "cell_type": "code",
   "execution_count": 18,
   "id": "b8e62381",
   "metadata": {},
   "outputs": [
    {
     "data": {
      "text/plain": [
       "Trip_Price\n",
       "88.132800     1\n",
       "27.441500     1\n",
       "69.626800     1\n",
       "201.869509    1\n",
       "39.236600     1\n",
       "             ..\n",
       "54.368400     1\n",
       "93.509600     1\n",
       "47.625200     1\n",
       "59.607500     1\n",
       "62.129500     1\n",
       "Name: count, Length: 89, dtype: int64"
      ]
     },
     "execution_count": 18,
     "metadata": {},
     "output_type": "execute_result"
    }
   ],
   "source": [
    "df_night[\"Trip_Price\"].value_counts()"
   ]
  },
  {
   "cell_type": "code",
   "execution_count": 19,
   "id": "ce546326",
   "metadata": {},
   "outputs": [
    {
     "data": {
      "text/plain": [
       "np.float64(3.502989473684211)"
      ]
     },
     "execution_count": 19,
     "metadata": {},
     "output_type": "execute_result"
    }
   ],
   "source": [
    "df[\"Base_Fare\"].mean()"
   ]
  },
  {
   "cell_type": "code",
   "execution_count": 20,
   "id": "579e41aa",
   "metadata": {},
   "outputs": [
    {
     "data": {
      "text/plain": [
       "Base_Fare\n",
       "3.94    10\n",
       "3.88     8\n",
       "2.32     8\n",
       "2.80     8\n",
       "2.38     7\n",
       "        ..\n",
       "2.89     1\n",
       "2.78     1\n",
       "2.37     1\n",
       "3.04     1\n",
       "2.67     1\n",
       "Name: count, Length: 290, dtype: int64"
      ]
     },
     "execution_count": 20,
     "metadata": {},
     "output_type": "execute_result"
    }
   ],
   "source": [
    "df[\"Base_Fare\"].value_counts()"
   ]
  },
  {
   "cell_type": "code",
   "execution_count": 21,
   "id": "2df64007",
   "metadata": {},
   "outputs": [
    {
     "data": {
      "text/plain": [
       "Trip_Distance_km         50\n",
       "Time_of_Day              50\n",
       "Day_of_Week              50\n",
       "Passenger_Count          50\n",
       "Traffic_Conditions       50\n",
       "Weather                  50\n",
       "Base_Fare                50\n",
       "Per_Km_Rate              50\n",
       "Per_Minute_Rate          50\n",
       "Trip_Duration_Minutes    50\n",
       "Trip_Price               49\n",
       "dtype: int64"
      ]
     },
     "execution_count": 21,
     "metadata": {},
     "output_type": "execute_result"
    }
   ],
   "source": [
    "df.isnull().sum()"
   ]
  },
  {
   "cell_type": "code",
   "execution_count": 1,
   "id": "3acd33bb",
   "metadata": {},
   "outputs": [
    {
     "ename": "NameError",
     "evalue": "name 'df' is not defined",
     "output_type": "error",
     "traceback": [
      "\u001b[31m---------------------------------------------------------------------------\u001b[39m",
      "\u001b[31mNameError\u001b[39m                                 Traceback (most recent call last)",
      "\u001b[36mCell\u001b[39m\u001b[36m \u001b[39m\u001b[32mIn[1]\u001b[39m\u001b[32m, line 2\u001b[39m\n\u001b[32m      1\u001b[39m df_group_sum = (\n\u001b[32m----> \u001b[39m\u001b[32m2\u001b[39m     \u001b[43mdf\u001b[49m.groupby(\u001b[33m\"\u001b[39m\u001b[33mDay_of_Week\u001b[39m\u001b[33m\"\u001b[39m, as_index=\u001b[38;5;28;01mFalse\u001b[39;00m) \n\u001b[32m      3\u001b[39m     .agg(Total_Km=(\u001b[33m\"\u001b[39m\u001b[33mTrip_Distance_km\u001b[39m\u001b[33m\"\u001b[39m, \u001b[33m\"\u001b[39m\u001b[33msum\u001b[39m\u001b[33m\"\u001b[39m),\n\u001b[32m      4\u001b[39m     Total_Minutes=(\u001b[33m\"\u001b[39m\u001b[33mTrip_Duration_Minutes\u001b[39m\u001b[33m\"\u001b[39m, \u001b[33m\"\u001b[39m\u001b[33msum\u001b[39m\u001b[33m\"\u001b[39m),\n\u001b[32m      5\u001b[39m     Total_Price=(\u001b[33m\"\u001b[39m\u001b[33mTrip_Price\u001b[39m\u001b[33m\"\u001b[39m, \u001b[33m\"\u001b[39m\u001b[33msum\u001b[39m\u001b[33m\"\u001b[39m))\n\u001b[32m      6\u001b[39m     .sort_values([\u001b[33m\"\u001b[39m\u001b[33mDay_of_Week\u001b[39m\u001b[33m\"\u001b[39m])\n\u001b[32m      7\u001b[39m )\n\u001b[32m      9\u001b[39m df_group_sum.shape\n",
      "\u001b[31mNameError\u001b[39m: name 'df' is not defined"
     ]
    }
   ],
   "source": [
    "df_group_sum = (\n",
    "    df.groupby(\"Day_of_Week\", as_index=False) \n",
    "    .agg(Total_Km=(\"Trip_Distance_km\", \"sum\"),\n",
    "    Total_Minutes=(\"Trip_Duration_Minutes\", \"sum\"),\n",
    "    Total_Price=(\"Trip_Price\", \"sum\"))\n",
    "    .sort_values([\"Day_of_Week\"])\n",
    ")\n",
    "\n",
    "df_group_sum.shape"
   ]
  }
 ],
 "metadata": {
  "kernelspec": {
   "display_name": ".venv",
   "language": "python",
   "name": "python3"
  },
  "language_info": {
   "codemirror_mode": {
    "name": "ipython",
    "version": 3
   },
   "file_extension": ".py",
   "mimetype": "text/x-python",
   "name": "python",
   "nbconvert_exporter": "python",
   "pygments_lexer": "ipython3",
   "version": "3.12.10"
  }
 },
 "nbformat": 4,
 "nbformat_minor": 5
}
