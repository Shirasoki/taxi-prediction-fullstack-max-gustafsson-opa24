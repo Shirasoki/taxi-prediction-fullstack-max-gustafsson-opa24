{
 "cells": [
  {
   "cell_type": "markdown",
   "id": "a934dcc2",
   "metadata": {},
   "source": [
    "## Doing a EDA about texi predictions, starting out with cleaning the data and understanding it"
   ]
  },
  {
   "cell_type": "code",
   "execution_count": null,
   "id": "9e9a3f39",
   "metadata": {},
   "outputs": [],
   "source": [
    "import pandas as pd\n",
    "import numpy as np\n"
   ]
  }
 ],
 "metadata": {
  "language_info": {
   "name": "python"
  }
 },
 "nbformat": 4,
 "nbformat_minor": 5
}
