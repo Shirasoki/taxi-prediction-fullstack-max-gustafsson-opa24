{
 "cells": [
  {
   "cell_type": "markdown",
   "id": "037d1d65",
   "metadata": {},
   "source": [
    "# Here im going to clean the data"
   ]
  },
  {
   "cell_type": "code",
   "execution_count": null,
   "id": "b62b0aa6",
   "metadata": {},
   "outputs": [],
   "source": [
    "import pandas as pd\n",
    "import numpy as np\n",
    "import matplotlib.pyplot as plt\n",
    "import seaborn as sns\n",
    "## testing version control\n",
    "\n",
    "df = pd.read_csv('../src/taxipred/data/taxi_trip_pricing.csv')"
   ]
  },
  {
   "cell_type": "markdown",
   "id": "dd258138",
   "metadata": {},
   "source": [
    "## Droping these columns for now as i dont need it for price\n"
   ]
  },
  {
   "cell_type": "code",
   "execution_count": 8,
   "id": "335a95f8",
   "metadata": {},
   "outputs": [],
   "source": [
    "df[\"null_count\"] = df.isnull().sum(axis=1)\n",
    "df = df.drop([\"Passenger_Count\", \"Traffic_Conditions\", \"Weather\", \"Day_of_Week\"], axis=1)\n"
   ]
  },
  {
   "cell_type": "code",
   "execution_count": 9,
   "id": "f99a48e1",
   "metadata": {},
   "outputs": [],
   "source": [
    "df = df[df[\"null_count\"] < 2].drop(columns=\"null_count\")"
   ]
  },
  {
   "cell_type": "markdown",
   "id": "88f0353a",
   "metadata": {},
   "source": [
    "## Calculations i need to use to replace outliers and missing values\n",
    "\n",
    "Per_Minute_Rate = (Trip_Price - Base_Fare - Per_Km_Rate*Trip_Distance_km) / Trip_Duration_Minutes\n",
    "\n",
    "Trip_Duration_Minutes = (Trip_Price - Base_Fare - Per_Km_Rate*Trip_Distance_km) / Per_Minute_Rate\n",
    "\n",
    "Trip_Distance_km = (Trip_Price - Base_Fare - Per_Minute_Rate*Trip_Duration_Minutes) / Per_Km_Rate\n",
    "\n",
    "Per_Km_Rate = (Trip_Price - Base_Fare - Per_Minute_Rate*Trip_Duration_Minutes) / Trip_Distance_km\n",
    "\n",
    "Base_Fare = Trip_Price - (Per_Minute_Rate*Trip_Duration_Minutes) - (Per_Km_Rate*Trip_Distance_km)\n",
    "\n",
    "As i am very bad at math i took help from a math expert in what calculations to use.\n",
    "\n",
    "A mask is basically me marking the rows that match a condition, and pandas does the rest."
   ]
  },
  {
   "cell_type": "code",
   "execution_count": 19,
   "id": "790bc589",
   "metadata": {},
   "outputs": [],
   "source": [
    "mask = df[\"Per_Minute_Rate\"].isna() & (df[\"Trip_Duration_Minutes\"] > 0)\n",
    "num = (df.loc[mask, \"Trip_Price\"]\n",
    "       - df.loc[mask, \"Base_Fare\"]\n",
    "       - df.loc[mask, \"Trip_Distance_km\"] * df.loc[mask, \"Per_Km_Rate\"])\n",
    "df.loc[mask, \"Per_Minute_Rate\"] = num / df.loc[mask, \"Trip_Duration_Minutes\"]"
   ]
  },
  {
   "cell_type": "code",
   "execution_count": 12,
   "id": "cd750b6e",
   "metadata": {},
   "outputs": [],
   "source": [
    "mask = df[\"Trip_Duration_Minutes\"].isna() & (df[\"Per_Minute_Rate\"] > 0)\n",
    "num = (df.loc[mask, \"Trip_Price\"]\n",
    "       - df.loc[mask, \"Base_Fare\"]\n",
    "       - df.loc[mask, \"Trip_Distance_km\"] * df.loc[mask, \"Per_Km_Rate\"])\n",
    "df.loc[mask, \"Trip_Duration_Minutes\"] = num / df.loc[mask, \"Per_Minute_Rate\"]"
   ]
  },
  {
   "cell_type": "code",
   "execution_count": null,
   "id": "11b505bf",
   "metadata": {},
   "outputs": [],
   "source": [
    "mask = df[\"Trip_Distance_km\"].isna() & (df[\"Per_Km_Rate\"] > 0)\n",
    "num = (df.loc[mask, \"Trip_Price\"]\n",
    "       - df.loc[mask, \"Base_Fare\"]\n",
    "       - df.loc[mask, \"Per_Minute_Rate\"] * df.loc[mask, \"Trip_Duration_Minutes\"])\n",
    "df.loc[mask, \"Trip_Distance_km\"] = num / df.loc[mask, \"Per_Km_Rate\"]"
   ]
  },
  {
   "cell_type": "code",
   "execution_count": 14,
   "id": "c15f3679",
   "metadata": {},
   "outputs": [],
   "source": [
    "mask = df[\"Per_Km_Rate\"].isna() & (df[\"Trip_Distance_km\"] > 0)\n",
    "num = (df.loc[mask, \"Trip_Price\"]\n",
    "       - df.loc[mask, \"Base_Fare\"]\n",
    "       - df.loc[mask, \"Per_Minute_Rate\"] * df.loc[mask, \"Trip_Duration_Minutes\"])\n",
    "df.loc[mask, \"Per_Km_Rate\"] = num / df.loc[mask, \"Trip_Distance_km\"]"
   ]
  },
  {
   "cell_type": "code",
   "execution_count": null,
   "id": "33f4687b",
   "metadata": {},
   "outputs": [],
   "source": [
    "mask = df[\"Base_Fare\"].isna()\n",
    "df.loc[mask, \"Base_Fare\"] = (\n",
    "    df.loc[mask, \"Trip_Price\"]\n",
    "    - df.loc[mask, \"Per_Minute_Rate\"] * df.loc[mask, \"Trip_Duration_Minutes\"]\n",
    "    - df.loc[mask, \"Per_Km_Rate\"] * df.loc[mask, \"Trip_Distance_km\"])"
   ]
  },
  {
   "cell_type": "code",
   "execution_count": 17,
   "id": "9aa55e24",
   "metadata": {},
   "outputs": [],
   "source": [
    "mask = df[\"Trip_Price\"].isna()\n",
    "df.loc[mask, \"Trip_Price\"] = (\n",
    "    df.loc[mask, \"Base_Fare\"]\n",
    "    + df.loc[mask, \"Per_Minute_Rate\"] * df.loc[mask, \"Trip_Duration_Minutes\"]\n",
    "    + df.loc[mask, \"Per_Km_Rate\"] * df.loc[mask, \"Trip_Distance_km\"])"
   ]
  },
  {
   "cell_type": "code",
   "execution_count": 18,
   "id": "2f14273d",
   "metadata": {},
   "outputs": [],
   "source": [
    "df[\"Time_of_Day\"] = df[\"Time_of_Day\"].fillna(\"Unknown\")"
   ]
  },
  {
   "cell_type": "code",
   "execution_count": 21,
   "id": "111590e1",
   "metadata": {},
   "outputs": [
    {
     "name": "stdout",
     "output_type": "stream",
     "text": [
      "Trip_Distance_km         0\n",
      "Time_of_Day              0\n",
      "Base_Fare                0\n",
      "Per_Km_Rate              0\n",
      "Per_Minute_Rate          0\n",
      "Trip_Duration_Minutes    0\n",
      "Trip_Price               0\n",
      "dtype: int64\n"
     ]
    }
   ],
   "source": [
    "print(df.isnull().sum())"
   ]
  },
  {
   "cell_type": "code",
   "execution_count": 23,
   "id": "7e397164",
   "metadata": {},
   "outputs": [
    {
     "name": "stdout",
     "output_type": "stream",
     "text": [
      "['Morning' 'Evening' 'Afternoon' 'Night' 'Unknown']\n"
     ]
    }
   ],
   "source": [
    "print(df[\"Time_of_Day\"].unique())"
   ]
  },
  {
   "cell_type": "code",
   "execution_count": 26,
   "id": "bab409fa",
   "metadata": {},
   "outputs": [],
   "source": [
    "df.to_csv(\"../src/taxipred/data/cleaned_data.csv\", index=False)"
   ]
  },
  {
   "cell_type": "markdown",
   "id": "7fe44caf",
   "metadata": {},
   "source": [
    "## Removing outliers in trip price\n"
   ]
  },
  {
   "cell_type": "code",
   "execution_count": 27,
   "id": "973bbd2f",
   "metadata": {},
   "outputs": [],
   "source": [
    "lower = df[\"Trip_Price\"].quantile(0.01)\n",
    "upper = df[\"Trip_Price\"].quantile(0.99)\n",
    "df_filtered = df[(df[\"Trip_Price\"] >= lower) & (df[\"Trip_Price\"] <= upper)]"
   ]
  },
  {
   "cell_type": "code",
   "execution_count": 30,
   "id": "eb5e4983",
   "metadata": {},
   "outputs": [
    {
     "name": "stdout",
     "output_type": "stream",
     "text": [
      "Rows (cleaned): 903\n",
      "Rows (no outliers): 883\n"
     ]
    }
   ],
   "source": [
    "print(f\"Rows (cleaned): {len(df)}\")\n",
    "print(f\"Rows (no outliers): {len(df_filtered)}\")"
   ]
  },
  {
   "cell_type": "code",
   "execution_count": 33,
   "id": "53f33a54",
   "metadata": {},
   "outputs": [
    {
     "data": {
      "text/plain": [
       "Trip_Distance_km         0\n",
       "Time_of_Day              0\n",
       "Base_Fare                0\n",
       "Per_Km_Rate              0\n",
       "Per_Minute_Rate          0\n",
       "Trip_Duration_Minutes    0\n",
       "Trip_Price               0\n",
       "dtype: int64"
      ]
     },
     "execution_count": 33,
     "metadata": {},
     "output_type": "execute_result"
    }
   ],
   "source": [
    "df_filtered.isnull().sum()"
   ]
  },
  {
   "cell_type": "code",
   "execution_count": 29,
   "id": "911bfd65",
   "metadata": {},
   "outputs": [],
   "source": [
    "df_filtered.to_csv(\"../src/taxipred/data/cleaned_data_v2.csv\", index=False)"
   ]
  },
  {
   "cell_type": "markdown",
   "id": "c6655f66",
   "metadata": {},
   "source": [
    "# testing version control\n",
    "\n"
   ]
  },
  {
   "cell_type": "markdown",
   "id": "1075273c",
   "metadata": {},
   "source": []
  }
 ],
 "metadata": {
  "kernelspec": {
   "display_name": ".venv",
   "language": "python",
   "name": "python3"
  },
  "language_info": {
   "codemirror_mode": {
    "name": "ipython",
    "version": 3
   },
   "file_extension": ".py",
   "mimetype": "text/x-python",
   "name": "python",
   "nbconvert_exporter": "python",
   "pygments_lexer": "ipython3",
   "version": "3.12.10"
  }
 },
 "nbformat": 4,
 "nbformat_minor": 5
}
