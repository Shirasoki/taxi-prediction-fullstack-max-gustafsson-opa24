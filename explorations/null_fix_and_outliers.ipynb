{
 "cells": [
  {
   "cell_type": "markdown",
   "id": "037d1d65",
   "metadata": {},
   "source": [
    "# Here im going to clean the data"
   ]
  },
  {
   "cell_type": "code",
   "execution_count": 35,
   "id": "b62b0aa6",
   "metadata": {},
   "outputs": [],
   "source": [
    "import pandas as pd\n",
    "import numpy as np\n",
    "import matplotlib.pyplot as plt\n",
    "import seaborn as sns\n",
    "## testing version control\n",
    "\n",
    "df = pd.read_csv('../src/taxipred/data/taxi_trip_pricing.csv')"
   ]
  },
  {
   "cell_type": "markdown",
   "id": "dd258138",
   "metadata": {},
   "source": [
    "## Droping these columns for now as i dont need it for price\n"
   ]
  },
  {
   "cell_type": "code",
   "execution_count": 36,
   "id": "335a95f8",
   "metadata": {},
   "outputs": [],
   "source": [
    "df[\"null_count\"] = df.isnull().sum(axis=1)\n",
    "df = df.drop([\"Passenger_Count\", \"Traffic_Conditions\", \"Weather\", \"Day_of_Week\", \"Time_of_Day\"], axis=1)\n"
   ]
  },
  {
   "cell_type": "code",
   "execution_count": 37,
   "id": "f99a48e1",
   "metadata": {},
   "outputs": [],
   "source": [
    "df = df[df[\"null_count\"] < 2].drop(columns=\"null_count\")"
   ]
  },
  {
   "cell_type": "markdown",
   "id": "88f0353a",
   "metadata": {},
   "source": [
    "## Calculations i need to use to replace outliers and missing values\n",
    "\n",
    "Per_Minute_Rate = (Trip_Price - Base_Fare - Per_Km_Rate*Trip_Distance_km) / Trip_Duration_Minutes\n",
    "\n",
    "Trip_Duration_Minutes = (Trip_Price - Base_Fare - Per_Km_Rate*Trip_Distance_km) / Per_Minute_Rate\n",
    "\n",
    "Trip_Distance_km = (Trip_Price - Base_Fare - Per_Minute_Rate*Trip_Duration_Minutes) / Per_Km_Rate\n",
    "\n",
    "Per_Km_Rate = (Trip_Price - Base_Fare - Per_Minute_Rate*Trip_Duration_Minutes) / Trip_Distance_km\n",
    "\n",
    "Base_Fare = Trip_Price - (Per_Minute_Rate*Trip_Duration_Minutes) - (Per_Km_Rate*Trip_Distance_km)\n",
    "\n",
    "As i am very bad at math i took help from a math expert in what calculations to use.\n",
    "\n",
    "A mask is basically me marking the rows that match a condition, and pandas does the rest."
   ]
  },
  {
   "cell_type": "code",
   "execution_count": 38,
   "id": "790bc589",
   "metadata": {},
   "outputs": [],
   "source": [
    "mask = df[\"Per_Minute_Rate\"].isna() & (df[\"Trip_Duration_Minutes\"] > 0)\n",
    "num = (df.loc[mask, \"Trip_Price\"]\n",
    "       - df.loc[mask, \"Base_Fare\"]\n",
    "       - df.loc[mask, \"Trip_Distance_km\"] * df.loc[mask, \"Per_Km_Rate\"])\n",
    "df.loc[mask, \"Per_Minute_Rate\"] = num / df.loc[mask, \"Trip_Duration_Minutes\"]"
   ]
  },
  {
   "cell_type": "code",
   "execution_count": 39,
   "id": "cd750b6e",
   "metadata": {},
   "outputs": [],
   "source": [
    "mask = df[\"Trip_Duration_Minutes\"].isna() & (df[\"Per_Minute_Rate\"] > 0)\n",
    "num = (df.loc[mask, \"Trip_Price\"]\n",
    "       - df.loc[mask, \"Base_Fare\"]\n",
    "       - df.loc[mask, \"Trip_Distance_km\"] * df.loc[mask, \"Per_Km_Rate\"])\n",
    "df.loc[mask, \"Trip_Duration_Minutes\"] = num / df.loc[mask, \"Per_Minute_Rate\"]"
   ]
  },
  {
   "cell_type": "code",
   "execution_count": 40,
   "id": "11b505bf",
   "metadata": {},
   "outputs": [],
   "source": [
    "mask = df[\"Trip_Distance_km\"].isna() & (df[\"Per_Km_Rate\"] > 0)\n",
    "num = (df.loc[mask, \"Trip_Price\"]\n",
    "       - df.loc[mask, \"Base_Fare\"]\n",
    "       - df.loc[mask, \"Per_Minute_Rate\"] * df.loc[mask, \"Trip_Duration_Minutes\"])\n",
    "df.loc[mask, \"Trip_Distance_km\"] = num / df.loc[mask, \"Per_Km_Rate\"]"
   ]
  },
  {
   "cell_type": "code",
   "execution_count": 41,
   "id": "c15f3679",
   "metadata": {},
   "outputs": [],
   "source": [
    "mask = df[\"Per_Km_Rate\"].isna() & (df[\"Trip_Distance_km\"] > 0)\n",
    "num = (df.loc[mask, \"Trip_Price\"]\n",
    "       - df.loc[mask, \"Base_Fare\"]\n",
    "       - df.loc[mask, \"Per_Minute_Rate\"] * df.loc[mask, \"Trip_Duration_Minutes\"])\n",
    "df.loc[mask, \"Per_Km_Rate\"] = num / df.loc[mask, \"Trip_Distance_km\"]"
   ]
  },
  {
   "cell_type": "code",
   "execution_count": 42,
   "id": "33f4687b",
   "metadata": {},
   "outputs": [],
   "source": [
    "mask = df[\"Base_Fare\"].isna()\n",
    "df.loc[mask, \"Base_Fare\"] = (\n",
    "    df.loc[mask, \"Trip_Price\"]\n",
    "    - df.loc[mask, \"Per_Minute_Rate\"] * df.loc[mask, \"Trip_Duration_Minutes\"]\n",
    "    - df.loc[mask, \"Per_Km_Rate\"] * df.loc[mask, \"Trip_Distance_km\"])"
   ]
  },
  {
   "cell_type": "code",
   "execution_count": 43,
   "id": "9aa55e24",
   "metadata": {},
   "outputs": [],
   "source": [
    "mask = df[\"Trip_Price\"].isna()\n",
    "df.loc[mask, \"Trip_Price\"] = (\n",
    "    df.loc[mask, \"Base_Fare\"]\n",
    "    + df.loc[mask, \"Per_Minute_Rate\"] * df.loc[mask, \"Trip_Duration_Minutes\"]\n",
    "    + df.loc[mask, \"Per_Km_Rate\"] * df.loc[mask, \"Trip_Distance_km\"])"
   ]
  },
  {
   "cell_type": "code",
   "execution_count": 44,
   "id": "2f14273d",
   "metadata": {},
   "outputs": [],
   "source": [
    "#df[\"Time_of_Day\"] = df[\"Time_of_Day\"].fillna(\"Unknown\")"
   ]
  },
  {
   "cell_type": "code",
   "execution_count": 45,
   "id": "111590e1",
   "metadata": {},
   "outputs": [
    {
     "name": "stdout",
     "output_type": "stream",
     "text": [
      "Trip_Distance_km         0\n",
      "Base_Fare                0\n",
      "Per_Km_Rate              0\n",
      "Per_Minute_Rate          0\n",
      "Trip_Duration_Minutes    0\n",
      "Trip_Price               0\n",
      "dtype: int64\n"
     ]
    }
   ],
   "source": [
    "print(df.isnull().sum())"
   ]
  },
  {
   "cell_type": "code",
   "execution_count": 46,
   "id": "7e397164",
   "metadata": {},
   "outputs": [],
   "source": [
    "#print(df[\"Time_of_Day\"].unique())"
   ]
  },
  {
   "cell_type": "code",
   "execution_count": 47,
   "id": "bab409fa",
   "metadata": {},
   "outputs": [],
   "source": [
    "df.to_csv(\"../src/taxipred/data/cleaned_data.csv\", index=False)"
   ]
  },
  {
   "cell_type": "markdown",
   "id": "7fe44caf",
   "metadata": {},
   "source": [
    "## Removing outliers in trip price\n"
   ]
  },
  {
   "cell_type": "code",
   "execution_count": null,
   "id": "973bbd2f",
   "metadata": {},
   "outputs": [],
   "source": [
    "numeric_cols = df.select_dtypes(include=[\"float64\", \"int64\"]).columns\n",
    "\n",
    "for col in numeric_cols:\n",
    "    lower = df[col].quantile(0.01)\n",
    "    upper = df[col].quantile(0.99)\n",
    "    df = df[(df[col] >= lower) & (df[col] <= upper)]\n",
    "\n",
    "df.to_csv(\"../src/taxipred/data/cleaned_data_v2.csv\", index=False)"
   ]
  },
  {
   "cell_type": "code",
   "execution_count": 49,
   "id": "eb5e4983",
   "metadata": {},
   "outputs": [
    {
     "name": "stdout",
     "output_type": "stream",
     "text": [
      "Rows (cleaned): 903\n",
      "Rows (no outliers): 883\n"
     ]
    }
   ],
   "source": [
    "print(f\"Rows (cleaned): {len(df)}\")\n",
    "print(f\"Rows (no outliers): {len(df_filtered)}\")"
   ]
  },
  {
   "cell_type": "code",
   "execution_count": 50,
   "id": "53f33a54",
   "metadata": {},
   "outputs": [
    {
     "data": {
      "text/plain": [
       "Trip_Distance_km         0\n",
       "Base_Fare                0\n",
       "Per_Km_Rate              0\n",
       "Per_Minute_Rate          0\n",
       "Trip_Duration_Minutes    0\n",
       "Trip_Price               0\n",
       "dtype: int64"
      ]
     },
     "execution_count": 50,
     "metadata": {},
     "output_type": "execute_result"
    }
   ],
   "source": [
    "df_filtered.isnull().sum()"
   ]
  },
  {
   "cell_type": "code",
   "execution_count": 52,
   "id": "911bfd65",
   "metadata": {},
   "outputs": [],
   "source": [
    "df_filtered.to_csv(\"../src/taxipred/data/cleaned_data_v2.csv\", index=False)"
   ]
  },
  {
   "cell_type": "code",
   "execution_count": 54,
   "id": "c6655f66",
   "metadata": {},
   "outputs": [
    {
     "data": {
      "image/png": "[encoded data removed]",
      "text/plain": [
       "<Figure size 640x480 with 1 Axes>"
      ]
     },
     "metadata": {},
     "output_type": "display_data"
    }
   ],
   "source": [
    "fig, ax = plt.subplots()\n",
    "ax.scatter(df[\"Trip_Distance_km\"], df[\"Trip_Price\"], s=14, alpha=0.6)\n",
    "ax.set_xlabel(\"Trip Distance (km)\")\n",
    "ax.set_ylabel(\"Trip Price\")\n",
    "ax.set_title(\"Trip Distance vs Trip Price\")\n",
    "plt.show()\n"
   ]
  },
  {
   "cell_type": "markdown",
   "id": "1075273c",
   "metadata": {},
   "source": [
    "## ssd"
   ]
  },
  {
   "cell_type": "markdown",
   "id": "611e135c",
   "metadata": {},
   "source": [
    "## sssd\n"
   ]
  },
  {
   "cell_type": "markdown",
   "id": "1baf2999",
   "metadata": {},
   "source": []
  }
 ],
 "metadata": {
  "kernelspec": {
   "display_name": ".venv",
   "language": "python",
   "name": "python3"
  },
  "language_info": {
   "codemirror_mode": {
    "name": "ipython",
    "version": 3
   },
   "file_extension": ".py",
   "mimetype": "text/x-python",
   "name": "python",
   "nbconvert_exporter": "python",
   "pygments_lexer": "ipython3",
   "version": "3.12.10"
  }
 },
 "nbformat": 4,
 "nbformat_minor": 5
}
